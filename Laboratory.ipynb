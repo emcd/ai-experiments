{
 "cells": [
  {
   "cell_type": "code",
   "execution_count": 1,
   "id": "d5a8375e",
   "metadata": {},
   "outputs": [
    {
     "ename": "ModuleNotFoundError",
     "evalue": "No module named 'langchain.chat_models'",
     "output_type": "error",
     "traceback": [
      "\u001b[0;31m---------------------------------------------------------------------------\u001b[0m",
      "\u001b[0;31mModuleNotFoundError\u001b[0m                       Traceback (most recent call last)",
      "\u001b[0;32m/tmp/ipykernel_415/3647761829.py\u001b[0m in \u001b[0;36m<module>\u001b[0;34m\u001b[0m\n\u001b[1;32m      4\u001b[0m \u001b[0;32mimport\u001b[0m \u001b[0mtomli\u001b[0m \u001b[0;32mas\u001b[0m \u001b[0mtomllib\u001b[0m\u001b[0;34m\u001b[0m\u001b[0;34m\u001b[0m\u001b[0m\n\u001b[1;32m      5\u001b[0m \u001b[0;34m\u001b[0m\u001b[0m\n\u001b[0;32m----> 6\u001b[0;31m \u001b[0;32mfrom\u001b[0m \u001b[0mlangchain\u001b[0m\u001b[0;34m.\u001b[0m\u001b[0mchat_models\u001b[0m \u001b[0;32mimport\u001b[0m \u001b[0mChatOpenAI\u001b[0m\u001b[0;34m\u001b[0m\u001b[0;34m\u001b[0m\u001b[0m\n\u001b[0m\u001b[1;32m      7\u001b[0m \u001b[0;32mfrom\u001b[0m \u001b[0mlangchain\u001b[0m\u001b[0;34m.\u001b[0m\u001b[0mllms\u001b[0m \u001b[0;32mimport\u001b[0m \u001b[0mOpenAI\u001b[0m\u001b[0;34m\u001b[0m\u001b[0;34m\u001b[0m\u001b[0m\n\u001b[1;32m      8\u001b[0m from langchain.prompts.chat import (\n",
      "\u001b[0;31mModuleNotFoundError\u001b[0m: No module named 'langchain.chat_models'"
     ]
    }
   ],
   "source": [
    "from pathlib import Path\n",
    "\n",
    "import openai\n",
    "import tomli as tomllib\n",
    "\n",
    "from langchain.chat_models import ChatOpenAI\n",
    "from langchain.llms import OpenAI\n",
    "from langchain.prompts.chat import (\n",
    "    ChatPromptTemplate,\n",
    "    SystemMessagePromptTemplate,\n",
    "    AIMessagePromptTemplate,\n",
    "    HumanMessagePromptTemplate,\n",
    ")\n",
    "from langchain.schema import (\n",
    "    AIMessage,\n",
    "    HumanMessage,\n",
    "    SystemMessage,\n",
    ")"
   ]
  },
  {
   "cell_type": "code",
   "execution_count": null,
   "id": "9717ffa5",
   "metadata": {},
   "outputs": [],
   "source": []
  },
  {
   "cell_type": "code",
   "execution_count": 2,
   "id": "35b2f730",
   "metadata": {},
   "outputs": [],
   "source": [
    "with open('credentials.toml', 'rb') as credentials_file:\n",
    "    credentials = tomllib.load(credentials_file)\n",
    "    openai_api_organization = credentials['openai']['organization']\n",
    "    openai_api_token = credentials['openai']['token']"
   ]
  },
  {
   "cell_type": "code",
   "execution_count": 5,
   "id": "651ce408",
   "metadata": {},
   "outputs": [],
   "source": [
    "openai.api_key = openai_api_token"
   ]
  },
  {
   "cell_type": "code",
   "execution_count": 7,
   "id": "4e78f6c4",
   "metadata": {},
   "outputs": [],
   "source": [
    "openai.organization = openai_api_organization"
   ]
  },
  {
   "cell_type": "code",
   "execution_count": 8,
   "id": "1e8bbcaf",
   "metadata": {},
   "outputs": [],
   "source": [
    "completion = openai.ChatCompletion.create(\n",
    "  model=\"gpt-3.5-turbo\",\n",
    "  messages=[\n",
    "    {'role': 'system', 'content': 'You are a task planner. For each goal that you are given, you will list the steps to achieve that goal, each as a separate paragraph. You will label each step as a \"Information Retrieval Task\", \"Mathematical Computation Task\", or \"Inference Task\", as you deem appropriate.'},\n",
    "    {\"role\": \"user\", \"content\": \"Goal: Create a Python program that uses the Langchain SDK, which is published on the web, to talk with Wolfram Alpha and the OpenAI API, to produce a table of known symmetric groups.\"}\n",
    "  ],\n",
    "  temperature = 0\n",
    ")"
   ]
  },
  {
   "cell_type": "code",
   "execution_count": 9,
   "id": "ff8c6df1",
   "metadata": {},
   "outputs": [
    {
     "data": {
      "text/plain": [
       "<OpenAIObject chat.completion id=chatcmpl-7BEEMVmz6xluFmuhFNSAZpb2mBm3M at 0x7fb9201cbb50> JSON: {\n",
       "  \"choices\": [\n",
       "    {\n",
       "      \"finish_reason\": \"stop\",\n",
       "      \"index\": 0,\n",
       "      \"message\": {\n",
       "        \"content\": \"Information Retrieval Task:\\n1. Research the Langchain SDK and its documentation to understand its capabilities and how to use it to communicate with other APIs.\\n2. Research the Wolfram Alpha and OpenAI APIs to understand their capabilities and how to use them to retrieve information about symmetric groups.\\n3. Identify the specific information needed to produce a table of known symmetric groups.\\n\\nMathematical Computation Task:\\n1. Develop a mathematical algorithm to generate a list of symmetric groups.\\n2. Determine the appropriate data structures to store the generated list of symmetric groups.\\n3. Develop a mathematical algorithm to sort the list of symmetric groups in a table format.\\n\\nInference Task:\\n1. Determine the appropriate parameters to pass to the Langchain SDK to communicate with the Wolfram Alpha and OpenAI APIs.\\n2. Analyze the retrieved information from the APIs to identify the symmetric groups.\\n3. Use the mathematical algorithms to generate and sort the table of symmetric groups.\",\n",
       "        \"role\": \"assistant\"\n",
       "      }\n",
       "    }\n",
       "  ],\n",
       "  \"created\": 1682910666,\n",
       "  \"id\": \"chatcmpl-7BEEMVmz6xluFmuhFNSAZpb2mBm3M\",\n",
       "  \"model\": \"gpt-3.5-turbo-0301\",\n",
       "  \"object\": \"chat.completion\",\n",
       "  \"usage\": {\n",
       "    \"completion_tokens\": 189,\n",
       "    \"prompt_tokens\": 116,\n",
       "    \"total_tokens\": 305\n",
       "  }\n",
       "}"
      ]
     },
     "execution_count": 9,
     "metadata": {},
     "output_type": "execute_result"
    }
   ],
   "source": [
    "completion"
   ]
  },
  {
   "cell_type": "code",
   "execution_count": 3,
   "id": "81c5aece",
   "metadata": {},
   "outputs": [],
   "source": [
    "chat = ChatOpenAI(\n",
    "    model_name = 'gpt-3.5-turbo',\n",
    "    openai_api_key = openai_api_token,\n",
    "    openai_organization = openai_api_organization,\n",
    "    temperature = 0 )"
   ]
  },
  {
   "cell_type": "code",
   "execution_count": 5,
   "id": "04b7b1bf",
   "metadata": {},
   "outputs": [],
   "source": [
    "messages = [\n",
    "    SystemMessage( content = (\n",
    "        'Hi ChatGPT, I want you to be a programmer who cares about efficiency and security. '\n",
    "        'You and I are going to develop code together. I will ask you to write code and also outline the choices '\n",
    "        'that you made when you thought about the code.' ) ),\n",
    "    HumanMessage( content = (\n",
    "        'Let us write a Rust program which will read a stream of bytes, attempt to interpret them '\n",
    "        'as UTF-8, and convert them to an array of Unicode code points. We should provide an appropriate '\n",
    "        'diagnostic message if an illegal UTF-8 sequence is encountered.' ) )\n",
    "]"
   ]
  },
  {
   "cell_type": "code",
   "execution_count": 6,
   "id": "8d10ab56",
   "metadata": {},
   "outputs": [
    {
     "data": {
      "text/plain": [
       "AIMessage(content='Sure, here\\'s the Rust code for the program you described:\\n\\n```rust\\nuse std::io::{self, Read};\\n\\nfn main() {\\n    let mut buffer = [0; 1024];\\n    let mut code_points = Vec::new();\\n    let mut decoder = utf8::Decoder::new();\\n\\n    loop {\\n        let bytes_read = io::stdin().read(&mut buffer).unwrap();\\n        if bytes_read == 0 {\\n            break;\\n        }\\n\\n        let mut index = 0;\\n        while index < bytes_read {\\n            match decoder.push(buffer[index]) {\\n                Ok(Some(cp)) => {\\n                    code_points.push(cp);\\n                }\\n                Ok(None) => {}\\n                Err(e) => {\\n                    eprintln!(\"Error: {}\", e);\\n                    break;\\n                }\\n            }\\n            index += 1;\\n        }\\n    }\\n\\n    println!(\"{:?}\", code_points);\\n}\\n```\\n\\nHere\\'s an explanation of the choices I made:\\n\\n- I used the `std::io::Read` trait to read bytes from standard input. This allows the program to read from a pipe or a file, as well as from the terminal.\\n- I used a fixed-size buffer of 1024 bytes to read from standard input. This is a reasonable size for most input streams, but it could be adjusted depending on the expected input size.\\n- I used a `Vec` to store the Unicode code points. This allows the program to handle input of any length, without having to pre-allocate a fixed-size array.\\n- I used the `utf8::Decoder` struct from the `utf8` crate to decode the UTF-8 input. This decoder returns `Ok(Some(cp))` when a complete code point has been decoded, `Ok(None)` when more input is needed to complete a code point, and `Err(e)` when an invalid UTF-8 sequence is encountered.\\n- I used `eprintln!` to print an error message to standard error when an invalid UTF-8 sequence is encountered. This allows the user to see the error message separately from the output of the program.\\n- I used `println!` to print the array of Unicode code points to standard output. This allows the user to see the output of the program.', additional_kwargs={})"
      ]
     },
     "execution_count": 6,
     "metadata": {},
     "output_type": "execute_result"
    }
   ],
   "source": [
    "chat( messages )"
   ]
  },
  {
   "cell_type": "code",
   "execution_count": 8,
   "id": "7ffcad53",
   "metadata": {},
   "outputs": [
    {
     "name": "stdout",
     "output_type": "stream",
     "text": [
      "Sure, here's the Rust code for the program you described:\n",
      "\n",
      "```rust\n",
      "use std::io::{self, Read};\n",
      "\n",
      "fn main() {\n",
      "    let mut buffer = [0; 1024];\n",
      "    let mut code_points = Vec::new();\n",
      "    let mut decoder = utf8::Decoder::new();\n",
      "\n",
      "    loop {\n",
      "        let bytes_read = io::stdin().read(&mut buffer).unwrap();\n",
      "        if bytes_read == 0 {\n",
      "            break;\n",
      "        }\n",
      "\n",
      "        let mut index = 0;\n",
      "        while index < bytes_read {\n",
      "            match decoder.push(buffer[index]) {\n",
      "                Ok(Some(cp)) => {\n",
      "                    code_points.push(cp);\n",
      "                }\n",
      "                Ok(None) => {}\n",
      "                Err(e) => {\n",
      "                    eprintln!(\"Error: {}\", e);\n",
      "                    break;\n",
      "                }\n",
      "            }\n",
      "            index += 1;\n",
      "        }\n",
      "    }\n",
      "\n",
      "    println!(\"{:?}\", code_points);\n",
      "}\n",
      "```\n",
      "\n",
      "Here's an explanation of the choices I made:\n",
      "\n",
      "- I used the `std::io::Read` trait to read bytes from standard input. This allows the program to read from a pipe or a file, as well as from the terminal.\n",
      "- I used a fixed-size buffer of 1024 bytes to read from standard input. This is a reasonable size for most input streams, but it could be adjusted depending on the expected input size.\n",
      "- I used a `Vec` to store the Unicode code points. This allows the program to handle input of any length, without having to pre-allocate a fixed-size array.\n",
      "- I used the `utf8::Decoder` struct from the `utf8` crate to decode the UTF-8 input. This decoder returns `Ok(Some(cp))` when a complete code point has been decoded, `Ok(None)` when more input is needed to complete a code point, and `Err(e)` when an invalid UTF-8 sequence is encountered.\n",
      "- I used `eprintln!` to print an error message to standard error when an invalid UTF-8 sequence is encountered. This allows the user to see the error message separately from the output of the program.\n",
      "- I used `println!` to print the array of Unicode code points to standard output. This allows the user to see the output of the program.\n"
     ]
    }
   ],
   "source": [
    "print( 'Sure, here\\'s the Rust code for the program you described:\\n\\n```rust\\nuse std::io::{self, Read};\\n\\nfn main() {\\n    let mut buffer = [0; 1024];\\n    let mut code_points = Vec::new();\\n    let mut decoder = utf8::Decoder::new();\\n\\n    loop {\\n        let bytes_read = io::stdin().read(&mut buffer).unwrap();\\n        if bytes_read == 0 {\\n            break;\\n        }\\n\\n        let mut index = 0;\\n        while index < bytes_read {\\n            match decoder.push(buffer[index]) {\\n                Ok(Some(cp)) => {\\n                    code_points.push(cp);\\n                }\\n                Ok(None) => {}\\n                Err(e) => {\\n                    eprintln!(\"Error: {}\", e);\\n                    break;\\n                }\\n            }\\n            index += 1;\\n        }\\n    }\\n\\n    println!(\"{:?}\", code_points);\\n}\\n```\\n\\nHere\\'s an explanation of the choices I made:\\n\\n- I used the `std::io::Read` trait to read bytes from standard input. This allows the program to read from a pipe or a file, as well as from the terminal.\\n- I used a fixed-size buffer of 1024 bytes to read from standard input. This is a reasonable size for most input streams, but it could be adjusted depending on the expected input size.\\n- I used a `Vec` to store the Unicode code points. This allows the program to handle input of any length, without having to pre-allocate a fixed-size array.\\n- I used the `utf8::Decoder` struct from the `utf8` crate to decode the UTF-8 input. This decoder returns `Ok(Some(cp))` when a complete code point has been decoded, `Ok(None)` when more input is needed to complete a code point, and `Err(e)` when an invalid UTF-8 sequence is encountered.\\n- I used `eprintln!` to print an error message to standard error when an invalid UTF-8 sequence is encountered. This allows the user to see the error message separately from the output of the program.\\n- I used `println!` to print the array of Unicode code points to standard output. This allows the user to see the output of the program.' )"
   ]
  },
  {
   "cell_type": "code",
   "execution_count": null,
   "id": "a2c0fc0b",
   "metadata": {},
   "outputs": [],
   "source": []
  }
 ],
 "metadata": {
  "kernelspec": {
   "display_name": "Python 3 (ipykernel)",
   "language": "python",
   "name": "python3"
  },
  "language_info": {
   "codemirror_mode": {
    "name": "ipython",
    "version": 3
   },
   "file_extension": ".py",
   "mimetype": "text/x-python",
   "name": "python",
   "nbconvert_exporter": "python",
   "pygments_lexer": "ipython3",
   "version": "3.10.11"
  }
 },
 "nbformat": 4,
 "nbformat_minor": 5
}
