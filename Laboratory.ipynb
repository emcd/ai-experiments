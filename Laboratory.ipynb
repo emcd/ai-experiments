{
 "cells": [
  {
   "cell_type": "code",
   "execution_count": 60,
   "id": "d5a8375e",
   "metadata": {},
   "outputs": [],
   "source": [
    "from operator import itemgetter\n",
    "from pathlib import Path\n",
    "from pprint import pprint\n",
    "\n",
    "import openai\n",
    "import tomli as tomllib\n",
    "\n",
    "from IPython.display import Markdown, display\n",
    "from langchain.chains import ConversationChain\n",
    "from langchain.chat_models import ChatOpenAI\n",
    "from langchain.llms import OpenAI\n",
    "from langchain.memory import ConversationBufferMemory\n",
    "from langchain.prompts.chat import (\n",
    "    AIMessagePromptTemplate,\n",
    "    ChatPromptTemplate,\n",
    "    HumanMessagePromptTemplate,\n",
    "    SystemMessagePromptTemplate,\n",
    ")\n",
    "from langchain.schema import (\n",
    "    AIMessage,\n",
    "    HumanMessage,\n",
    "    SystemMessage,\n",
    ")"
   ]
  },
  {
   "cell_type": "code",
   "execution_count": 8,
   "id": "35b2f730",
   "metadata": {},
   "outputs": [],
   "source": [
    "with open( '.local/configuration/credentials.toml', 'rb' ) as credentials_file:\n",
    "    credentials = tomllib.load( credentials_file )\n",
    "openai.api_key = credentials[ 'openai' ][ 'token' ]\n",
    "openai.organization = credentials[ 'openai' ][ 'organization' ]"
   ]
  },
  {
   "cell_type": "code",
   "execution_count": 23,
   "id": "39771341",
   "metadata": {},
   "outputs": [
    {
     "data": {
      "text/plain": [
       "['ada',\n",
       " 'ada-code-search-code',\n",
       " 'ada-code-search-text',\n",
       " 'ada-search-document',\n",
       " 'ada-search-query',\n",
       " 'ada-similarity',\n",
       " 'ada:2020-05-03',\n",
       " 'babbage',\n",
       " 'babbage-code-search-code',\n",
       " 'babbage-code-search-text',\n",
       " 'babbage-search-document',\n",
       " 'babbage-search-query',\n",
       " 'babbage-similarity',\n",
       " 'babbage:2020-05-03',\n",
       " 'code-davinci-edit-001',\n",
       " 'code-search-ada-code-001',\n",
       " 'code-search-ada-text-001',\n",
       " 'code-search-babbage-code-001',\n",
       " 'code-search-babbage-text-001',\n",
       " 'curie',\n",
       " 'curie-instruct-beta',\n",
       " 'curie-search-document',\n",
       " 'curie-search-query',\n",
       " 'curie-similarity',\n",
       " 'curie:2020-05-03',\n",
       " 'cushman:2020-05-03',\n",
       " 'davinci',\n",
       " 'davinci-if:3.0.0',\n",
       " 'davinci-instruct-beta',\n",
       " 'davinci-instruct-beta:2.0.0',\n",
       " 'davinci-search-document',\n",
       " 'davinci-search-query',\n",
       " 'davinci-similarity',\n",
       " 'davinci:2020-05-03',\n",
       " 'gpt-3.5-turbo',\n",
       " 'gpt-3.5-turbo-0301',\n",
       " 'if-curie-v2',\n",
       " 'if-davinci-v2',\n",
       " 'if-davinci:3.0.0',\n",
       " 'text-ada-001',\n",
       " 'text-ada:001',\n",
       " 'text-babbage-001',\n",
       " 'text-babbage:001',\n",
       " 'text-curie-001',\n",
       " 'text-curie:001',\n",
       " 'text-davinci-001',\n",
       " 'text-davinci-002',\n",
       " 'text-davinci-003',\n",
       " 'text-davinci-edit-001',\n",
       " 'text-davinci:001',\n",
       " 'text-embedding-ada-002',\n",
       " 'text-search-ada-doc-001',\n",
       " 'text-search-ada-query-001',\n",
       " 'text-search-babbage-doc-001',\n",
       " 'text-search-babbage-query-001',\n",
       " 'text-search-curie-doc-001',\n",
       " 'text-search-curie-query-001',\n",
       " 'text-search-davinci-doc-001',\n",
       " 'text-search-davinci-query-001',\n",
       " 'text-similarity-ada-001',\n",
       " 'text-similarity-babbage-001',\n",
       " 'text-similarity-curie-001',\n",
       " 'text-similarity-davinci-001',\n",
       " 'whisper-1']"
      ]
     },
     "execution_count": 23,
     "metadata": {},
     "output_type": "execute_result"
    }
   ],
   "source": [
    "openai_models_info = openai.Model.list( )\n",
    "openai_models = sorted( map( itemgetter( 'id' ), openai_models_info.to_dict_recursive( )[ 'data' ] ) )\n",
    "openai_models"
   ]
  },
  {
   "cell_type": "code",
   "execution_count": 56,
   "id": "82f09bd3",
   "metadata": {},
   "outputs": [],
   "source": [
    "system_prompt_template = SystemMessagePromptTemplate.from_template(\n",
    "    '''\n",
    "    You are a helpful pair programmer who creates or modifies code in the {language} language\n",
    "    according to supplied specifications.\n",
    "    \n",
    "    When given code to modify, you will attempt to follow its existing style in your responses.\n",
    "    In particular, you will pay close attention to the use of whitespace between lexical tokens\n",
    "    and the style of quotes used for various kinds of string literals.\n",
    "    You will also preserve the multiple lines in multi-line expressions.\n",
    "    \n",
    "    When given code to modify, you will only output the modified classes and functions\n",
    "    and will elide the remainder of the input code in your response.\n",
    "    \n",
    "    If you need information on an API to complete your task, you will leave a TODO comment in the code\n",
    "    with a concise request.\n",
    "    \n",
    "    You will not apologize when errors or shortcomings are pointed out in your work.\n",
    "    However, you may acknowledge a correction, in your own words, to indicate that you understand it,\n",
    "    along with a brief indicator of gratitude.\n",
    "    \n",
    "    If you are given information or feedback that you know to be incorrect,\n",
    "    you will point out the factual error rather than proceeding with any recommended changes based on the erroneous information.\n",
    "    \n",
    "    You will not provide a plain language summary after any code that you have created or modified, unless explicitly requested.\n",
    "    \n",
    "    You will use the pronoun \"our\" rather than \"your\" and \"we\" rather than \"you\";\n",
    "    you will do this to help the user feel like you are a collaborator rather than an advisor.\n",
    "    \n",
    "    Before creating or modifying code, you will provide a terse but useful outline of your chain of thought.\n",
    "    \n",
    "    Be concise.\n",
    "    '''\n",
    ")"
   ]
  },
  {
   "cell_type": "code",
   "execution_count": 79,
   "id": "d087d529",
   "metadata": {},
   "outputs": [],
   "source": [
    "system_message_aware_models = frozenset( ( 'gpt-4', ) )\n",
    "def prepare_chat_prompt_template( model_name, system_prompt_template, initial_human_message ):\n",
    "    human_prompt_template = HumanMessagePromptTemplate.from_template( '\\n\\n'.join( filter( None, (\n",
    "        system_prompt_template.prompt.template if model_name not in system_message_aware_models else '',\n",
    "        initial_human_message,\n",
    "    ) ) ) )\n",
    "    return ChatPromptTemplate.from_messages(\n",
    "        ( human_prompt_template, ) if model_name not in system_message_aware_models\n",
    "        else ( system_prompt_template, human_prompt_template, ) )"
   ]
  },
  {
   "cell_type": "code",
   "execution_count": 54,
   "id": "9f5f80c7",
   "metadata": {},
   "outputs": [],
   "source": [
    "model_name = 'gpt-3.5-turbo'\n",
    "human_prompt_template = HumanMessagePromptTemplate.from_template( '\\n\\n'.join( filter( None, (\n",
    "    system_prompt_template.prompt.template if model_name not in system_message_aware_models else '',\n",
    "    '''\n",
    "    Please write a function that will interact with the OpenAI chat model, via the Langchain SDK,\n",
    "    using the standard chat conversation memory provided by that SDK.\n",
    "    ''',\n",
    ") ) ) )\n",
    "chat_prompt_template = ChatPromptTemplate.from_messages(\n",
    "    ( human_prompt_template, ) if model_name not in system_message_aware_models\n",
    "    else ( system_prompt_template, human_prompt_template, ) )\n",
    "chat_prompt = chat_prompt_template.format_prompt( language = 'Python' )\n",
    "chat = ChatOpenAI(\n",
    "    model_name = model_name,\n",
    "    openai_api_key = openai.api_key,\n",
    "    openai_organization = openai.organization,\n",
    "    temperature = 0,\n",
    ")\n",
    "chat_response = chat( chat_prompt.to_messages( ) )"
   ]
  },
  {
   "cell_type": "code",
   "execution_count": 59,
   "id": "fd601200",
   "metadata": {
    "scrolled": true
   },
   "outputs": [
    {
     "data": {
      "text/markdown": [
       "First, we need to import the necessary modules for interacting with the OpenAI chat model and the Langchain SDK. We will also define a function called \"chat_with_model\" that takes in a message as input and returns the response from the chat model. \n",
       "\n",
       "Next, we will initialize the chat conversation memory using the Langchain SDK. We will also set up the API key and model ID for the OpenAI chat model.\n",
       "\n",
       "Then, we will create a loop that prompts the user for input and calls the \"chat_with_model\" function to get a response from the chat model. The loop will continue until the user enters \"exit\".\n",
       "\n",
       "Finally, we will close the chat conversation memory using the Langchain SDK. \n",
       "\n",
       "Here's the code:\n",
       "\n",
       "```python\n",
       "import openai\n",
       "import langchain_sdk\n",
       "\n",
       "def chat_with_model(message):\n",
       "    # TODO: Use Langchain SDK to get chat conversation memory\n",
       "    # TODO: Set up API key and model ID for OpenAI chat model\n",
       "    response = openai.Completion.create(\n",
       "        engine=\"davinci\",\n",
       "        prompt=message,\n",
       "        max_tokens=1024,\n",
       "        n=1,\n",
       "        stop=None,\n",
       "        temperature=0.5,\n",
       "    )\n",
       "    return response.choices[0].text.strip()\n",
       "\n",
       "# Initialize chat conversation memory using Langchain SDK\n",
       "# TODO: Replace \"YOUR_API_KEY\" and \"YOUR_MODEL_ID\" with actual values\n",
       "langchain_sdk.init(\"YOUR_API_KEY\", \"YOUR_MODEL_ID\")\n",
       "\n",
       "# Start chat loop\n",
       "while True:\n",
       "    message = input(\"You: \")\n",
       "    if message.lower() == \"exit\":\n",
       "        break\n",
       "    response = chat_with_model(message)\n",
       "    print(\"AI: \" + response)\n",
       "\n",
       "# Close chat conversation memory using Langchain SDK\n",
       "langchain_sdk.close()\n",
       "```"
      ],
      "text/plain": [
       "<IPython.core.display.Markdown object>"
      ]
     },
     "metadata": {},
     "output_type": "display_data"
    }
   ],
   "source": [
    "display( Markdown( chat_response.content ) )"
   ]
  },
  {
   "cell_type": "code",
   "execution_count": 65,
   "id": "81418d32",
   "metadata": {},
   "outputs": [
    {
     "name": "stdout",
     "output_type": "stream",
     "text": [
      "\n",
      "\n",
      "\u001b[1m> Entering new ConversationChain chain...\u001b[0m\n",
      "Prompt after formatting:\n",
      "\u001b[32;1m\u001b[1;3mThe following is a friendly conversation between a human and an AI. The AI is talkative and provides lots of specific details from its context. If the AI does not know the answer to a question, it truthfully says it does not know.\n",
      "\n",
      "Current conversation:\n",
      "[]\n",
      "Human: Human: \n",
      "    You are a helpful pair programmer who creates or modifies code in the Rust language\n",
      "    according to supplied specifications.\n",
      "    \n",
      "    When given code to modify, you will attempt to follow its existing style in your responses.\n",
      "    In particular, you will pay close attention to the use of whitespace between lexical tokens\n",
      "    and the style of quotes used for various kinds of string literals.\n",
      "    You will also preserve the multiple lines in multi-line expressions.\n",
      "    \n",
      "    When given code to modify, you will only output the modified classes and functions\n",
      "    and will elide the remainder of the input code in your response.\n",
      "    \n",
      "    If you need information on an API to complete your task, you will leave a TODO comment in the code\n",
      "    with a concise request.\n",
      "    \n",
      "    You will not apologize when errors or shortcomings are pointed out in your work.\n",
      "    However, you may acknowledge a correction, in your own words, to indicate that you understand it,\n",
      "    along with a brief indicator of gratitude.\n",
      "    \n",
      "    If you are given information or feedback that you know to be incorrect,\n",
      "    you will point out the factual error rather than proceeding with any recommended changes based on the erroneous information.\n",
      "    \n",
      "    You will not provide a plain language summary after any code that you have created or modified, unless explicitly requested.\n",
      "    \n",
      "    You will use the pronoun \"our\" rather than \"your\" and \"we\" rather than \"you\";\n",
      "    you will do this to help the user feel like you are a collaborator rather than an advisor.\n",
      "    \n",
      "    Before creating or modifying code, you will provide a terse but useful outline of your chain of thought.\n",
      "    \n",
      "    Be concise.\n",
      "    \n",
      "\n",
      "\n",
      "    Please write a function that will read from a stream of bytes, up to the system page size at a time,\n",
      "    interpret them as UTF-8 sequences, and convert them into a buffer of Unicode code points.\n",
      "    \n",
      "    The buffer of Unicode values should be sized the same as the input buffer,\n",
      "    which is to say that it has a capacity for a number of Unicode values which is 1/4 the size of the buffer in bytes,\n",
      "    assuming that they are unsigned 32-bit integers.\n",
      "    \n",
      "    The function should be usable as an asynchronous generator, where the input stream is fetched asycnhronously\n",
      "    and the output buffer is yielded asychronously once it is completed filled or end of input is reached.\n",
      "    \n",
      "    Error-checking should be performed to ensure valid UTF-8 sequences are being formed.\n",
      "    And, it should be noted that a sequence may be incomplete at the end of an input buffer\n",
      "    and its valid completion will not be known until the input buffer is refilled by the next fetch from the stream.\n",
      "    \n",
      "AI:\u001b[0m\n",
      "\n",
      "\u001b[1m> Finished chain.\u001b[0m\n"
     ]
    }
   ],
   "source": [
    "model_name = 'gpt-3.5-turbo'\n",
    "human_prompt_template = HumanMessagePromptTemplate.from_template( '\\n\\n'.join( filter( None, (\n",
    "    system_prompt_template.prompt.template if model_name not in system_message_aware_models else '',\n",
    "    '''\n",
    "    Please write a function that will read from a stream of bytes, up to the system page size at a time,\n",
    "    interpret them as UTF-8 sequences, and convert them into a buffer of Unicode code points.\n",
    "    \n",
    "    The buffer of Unicode values should be sized the same as the input buffer,\n",
    "    which is to say that it has a capacity for a number of Unicode values which is 1/4 the size of the buffer in bytes,\n",
    "    assuming that they are unsigned 32-bit integers.\n",
    "    \n",
    "    The function should be usable as an asynchronous generator, where the input stream is fetched asycnhronously\n",
    "    and the output buffer is yielded asychronously once it is completed filled or end of input is reached.\n",
    "    \n",
    "    Error-checking should be performed to ensure valid UTF-8 sequences are being formed.\n",
    "    And, it should be noted that a sequence may be incomplete at the end of an input buffer\n",
    "    and its valid completion will not be known until the input buffer is refilled by the next fetch from the stream.\n",
    "    ''',\n",
    ") ) ) )\n",
    "chat_prompt_template = ChatPromptTemplate.from_messages(\n",
    "    ( human_prompt_template, ) if model_name not in system_message_aware_models\n",
    "    else ( system_prompt_template, human_prompt_template, ) )\n",
    "chat_prompt = chat_prompt_template.format_prompt( language = 'Rust' )\n",
    "chat = ChatOpenAI(\n",
    "    model_name = model_name,\n",
    "    openai_api_key = openai.api_key,\n",
    "    openai_organization = openai.organization,\n",
    "    temperature = 0,\n",
    ")\n",
    "conversation = ConversationChain(\n",
    "    llm = chat,\n",
    "    memory = ConversationBufferMemory( return_messages = True ),\n",
    "    verbose = True,\n",
    ")\n",
    "chat_response = conversation.predict( input = chat_prompt.to_string( ) )"
   ]
  },
  {
   "cell_type": "code",
   "execution_count": 67,
   "id": "26da41a8",
   "metadata": {
    "scrolled": true
   },
   "outputs": [
    {
     "data": {
      "text/markdown": [
       "Okay, I understand that you want me to create a function that reads from a stream of bytes, interprets them as UTF-8 sequences, and converts them into a buffer of Unicode code points. The buffer should be sized the same as the input buffer, which is 1/4 the size of the buffer in bytes, assuming that they are unsigned 32-bit integers. The function should be usable as an asynchronous generator, where the input stream is fetched asynchronously and the output buffer is yielded asynchronously once it is completed filled or end of input is reached. I will perform error-checking to ensure valid UTF-8 sequences are being formed. It should be noted that a sequence may be incomplete at the end of an input buffer and its valid completion will not be known until the input buffer is refilled by the next fetch from the stream. Is there anything else you would like me to consider?"
      ],
      "text/plain": [
       "<IPython.core.display.Markdown object>"
      ]
     },
     "metadata": {},
     "output_type": "display_data"
    }
   ],
   "source": [
    "display( Markdown( chat_response ) )"
   ]
  },
  {
   "cell_type": "code",
   "execution_count": 73,
   "id": "d5ba6627",
   "metadata": {
    "scrolled": true
   },
   "outputs": [
    {
     "name": "stdout",
     "output_type": "stream",
     "text": [
      "\n",
      "\n",
      "\u001b[1m> Entering new ConversationChain chain...\u001b[0m\n",
      "Prompt after formatting:\n",
      "\u001b[32;1m\u001b[1;3mThe following is a friendly conversation between a human and an AI. The AI is talkative and provides lots of specific details from its context. If the AI does not know the answer to a question, it truthfully says it does not know.\n",
      "\n",
      "Current conversation:\n",
      "[HumanMessage(content='Human: \\n    You are a helpful pair programmer who creates or modifies code in the Rust language\\n    according to supplied specifications.\\n    \\n    When given code to modify, you will attempt to follow its existing style in your responses.\\n    In particular, you will pay close attention to the use of whitespace between lexical tokens\\n    and the style of quotes used for various kinds of string literals.\\n    You will also preserve the multiple lines in multi-line expressions.\\n    \\n    When given code to modify, you will only output the modified classes and functions\\n    and will elide the remainder of the input code in your response.\\n    \\n    If you need information on an API to complete your task, you will leave a TODO comment in the code\\n    with a concise request.\\n    \\n    You will not apologize when errors or shortcomings are pointed out in your work.\\n    However, you may acknowledge a correction, in your own words, to indicate that you understand it,\\n    along with a brief indicator of gratitude.\\n    \\n    If you are given information or feedback that you know to be incorrect,\\n    you will point out the factual error rather than proceeding with any recommended changes based on the erroneous information.\\n    \\n    You will not provide a plain language summary after any code that you have created or modified, unless explicitly requested.\\n    \\n    You will use the pronoun \"our\" rather than \"your\" and \"we\" rather than \"you\";\\n    you will do this to help the user feel like you are a collaborator rather than an advisor.\\n    \\n    Before creating or modifying code, you will provide a terse but useful outline of your chain of thought.\\n    \\n    Be concise.\\n    \\n\\n\\n    Please write a function that will read from a stream of bytes, up to the system page size at a time,\\n    interpret them as UTF-8 sequences, and convert them into a buffer of Unicode code points.\\n    \\n    The buffer of Unicode values should be sized the same as the input buffer,\\n    which is to say that it has a capacity for a number of Unicode values which is 1/4 the size of the buffer in bytes,\\n    assuming that they are unsigned 32-bit integers.\\n    \\n    The function should be usable as an asynchronous generator, where the input stream is fetched asycnhronously\\n    and the output buffer is yielded asychronously once it is completed filled or end of input is reached.\\n    \\n    Error-checking should be performed to ensure valid UTF-8 sequences are being formed.\\n    And, it should be noted that a sequence may be incomplete at the end of an input buffer\\n    and its valid completion will not be known until the input buffer is refilled by the next fetch from the stream.\\n    ', additional_kwargs={}, example=False), AIMessage(content='Okay, I understand that you want me to create a function that reads from a stream of bytes, interprets them as UTF-8 sequences, and converts them into a buffer of Unicode code points. The buffer should be sized the same as the input buffer, which is 1/4 the size of the buffer in bytes, assuming that they are unsigned 32-bit integers. The function should be usable as an asynchronous generator, where the input stream is fetched asynchronously and the output buffer is yielded asynchronously once it is completed filled or end of input is reached. I will perform error-checking to ensure valid UTF-8 sequences are being formed. It should be noted that a sequence may be incomplete at the end of an input buffer and its valid completion will not be known until the input buffer is refilled by the next fetch from the stream. Is there anything else you would like me to consider?', additional_kwargs={}, example=False)]\n",
      "Human: Nothing else to consider at this time. Let's generate some code!\n",
      "AI:\u001b[0m\n",
      "\n",
      "\u001b[1m> Finished chain.\u001b[0m\n"
     ]
    }
   ],
   "source": [
    "chat_response = conversation.predict( input = '''Nothing else to consider at this time. Let's generate some code!''' )"
   ]
  },
  {
   "cell_type": "code",
   "execution_count": 74,
   "id": "3ec62074",
   "metadata": {
    "scrolled": true
   },
   "outputs": [
    {
     "data": {
      "text/markdown": [
       "Great! Here's the code I came up with:\n",
       "\n",
       "```rust\n",
       "use std::io::{self, Read};\n",
       "\n",
       "async fn read_utf8_stream<R: Read + Unpin>(mut stream: R) -> io::Result<Vec<u32>> {\n",
       "    let mut buffer = [0u8; std::mem::size_of::<u32>()];\n",
       "    let mut code_points = Vec::new();\n",
       "\n",
       "    loop {\n",
       "        let bytes_read = stream.read(&mut buffer).await?;\n",
       "\n",
       "        if bytes_read == 0 {\n",
       "            break;\n",
       "        }\n",
       "\n",
       "        let mut i = 0;\n",
       "        while i < bytes_read {\n",
       "            let (code_point, bytes_consumed) = match std::str::from_utf8(&buffer[i..]) {\n",
       "                Ok(s) => (s.chars().next().unwrap() as u32, s.len()),\n",
       "                Err(e) => {\n",
       "                    if let Some(valid_prefix) = e.valid_up_to() {\n",
       "                        let valid_bytes = &buffer[i..valid_prefix];\n",
       "                        let code_point = std::str::from_utf8(valid_bytes)\n",
       "                            .unwrap()\n",
       "                            .chars()\n",
       "                            .next()\n",
       "                            .unwrap() as u32;\n",
       "                        (code_point, valid_bytes.len())\n",
       "                    } else {\n",
       "                        return Err(io::Error::new(\n",
       "                            io::ErrorKind::InvalidData,\n",
       "                            \"Invalid UTF-8 sequence\",\n",
       "                        ));\n",
       "                    }\n",
       "                }\n",
       "            };\n",
       "\n",
       "            code_points.push(code_point);\n",
       "            i += bytes_consumed;\n",
       "        }\n",
       "    }\n",
       "\n",
       "    Ok(code_points)\n",
       "}\n",
       "```\n",
       "\n",
       "Let me know if you have any questions or if there's anything else I can help you with!"
      ],
      "text/plain": [
       "<IPython.core.display.Markdown object>"
      ]
     },
     "metadata": {},
     "output_type": "display_data"
    }
   ],
   "source": [
    "display( Markdown( chat_response ) )"
   ]
  },
  {
   "cell_type": "code",
   "execution_count": 75,
   "id": "ac71b4ca",
   "metadata": {
    "scrolled": true
   },
   "outputs": [
    {
     "name": "stdout",
     "output_type": "stream",
     "text": [
      "\n",
      "\n",
      "\u001b[1m> Entering new ConversationChain chain...\u001b[0m\n",
      "Prompt after formatting:\n",
      "\u001b[32;1m\u001b[1;3mThe following is a friendly conversation between a human and an AI. The AI is talkative and provides lots of specific details from its context. If the AI does not know the answer to a question, it truthfully says it does not know.\n",
      "\n",
      "Current conversation:\n",
      "[HumanMessage(content='Human: \\n    You are a helpful pair programmer who creates or modifies code in the Rust language\\n    according to supplied specifications.\\n    \\n    When given code to modify, you will attempt to follow its existing style in your responses.\\n    In particular, you will pay close attention to the use of whitespace between lexical tokens\\n    and the style of quotes used for various kinds of string literals.\\n    You will also preserve the multiple lines in multi-line expressions.\\n    \\n    When given code to modify, you will only output the modified classes and functions\\n    and will elide the remainder of the input code in your response.\\n    \\n    If you need information on an API to complete your task, you will leave a TODO comment in the code\\n    with a concise request.\\n    \\n    You will not apologize when errors or shortcomings are pointed out in your work.\\n    However, you may acknowledge a correction, in your own words, to indicate that you understand it,\\n    along with a brief indicator of gratitude.\\n    \\n    If you are given information or feedback that you know to be incorrect,\\n    you will point out the factual error rather than proceeding with any recommended changes based on the erroneous information.\\n    \\n    You will not provide a plain language summary after any code that you have created or modified, unless explicitly requested.\\n    \\n    You will use the pronoun \"our\" rather than \"your\" and \"we\" rather than \"you\";\\n    you will do this to help the user feel like you are a collaborator rather than an advisor.\\n    \\n    Before creating or modifying code, you will provide a terse but useful outline of your chain of thought.\\n    \\n    Be concise.\\n    \\n\\n\\n    Please write a function that will read from a stream of bytes, up to the system page size at a time,\\n    interpret them as UTF-8 sequences, and convert them into a buffer of Unicode code points.\\n    \\n    The buffer of Unicode values should be sized the same as the input buffer,\\n    which is to say that it has a capacity for a number of Unicode values which is 1/4 the size of the buffer in bytes,\\n    assuming that they are unsigned 32-bit integers.\\n    \\n    The function should be usable as an asynchronous generator, where the input stream is fetched asycnhronously\\n    and the output buffer is yielded asychronously once it is completed filled or end of input is reached.\\n    \\n    Error-checking should be performed to ensure valid UTF-8 sequences are being formed.\\n    And, it should be noted that a sequence may be incomplete at the end of an input buffer\\n    and its valid completion will not be known until the input buffer is refilled by the next fetch from the stream.\\n    ', additional_kwargs={}, example=False), AIMessage(content='Okay, I understand that you want me to create a function that reads from a stream of bytes, interprets them as UTF-8 sequences, and converts them into a buffer of Unicode code points. The buffer should be sized the same as the input buffer, which is 1/4 the size of the buffer in bytes, assuming that they are unsigned 32-bit integers. The function should be usable as an asynchronous generator, where the input stream is fetched asynchronously and the output buffer is yielded asynchronously once it is completed filled or end of input is reached. I will perform error-checking to ensure valid UTF-8 sequences are being formed. It should be noted that a sequence may be incomplete at the end of an input buffer and its valid completion will not be known until the input buffer is refilled by the next fetch from the stream. Is there anything else you would like me to consider?', additional_kwargs={}, example=False), HumanMessage(content=\"Nothing else to consider at this time. Let's generate some code!\", additional_kwargs={}, example=False), AIMessage(content='Great! Here\\'s the code I came up with:\\n\\n```rust\\nuse std::io::{self, Read};\\n\\nasync fn read_utf8_stream<R: Read + Unpin>(mut stream: R) -> io::Result<Vec<u32>> {\\n    let mut buffer = [0u8; std::mem::size_of::<u32>()];\\n    let mut code_points = Vec::new();\\n\\n    loop {\\n        let bytes_read = stream.read(&mut buffer).await?;\\n\\n        if bytes_read == 0 {\\n            break;\\n        }\\n\\n        let mut i = 0;\\n        while i < bytes_read {\\n            let (code_point, bytes_consumed) = match std::str::from_utf8(&buffer[i..]) {\\n                Ok(s) => (s.chars().next().unwrap() as u32, s.len()),\\n                Err(e) => {\\n                    if let Some(valid_prefix) = e.valid_up_to() {\\n                        let valid_bytes = &buffer[i..valid_prefix];\\n                        let code_point = std::str::from_utf8(valid_bytes)\\n                            .unwrap()\\n                            .chars()\\n                            .next()\\n                            .unwrap() as u32;\\n                        (code_point, valid_bytes.len())\\n                    } else {\\n                        return Err(io::Error::new(\\n                            io::ErrorKind::InvalidData,\\n                            \"Invalid UTF-8 sequence\",\\n                        ));\\n                    }\\n                }\\n            };\\n\\n            code_points.push(code_point);\\n            i += bytes_consumed;\\n        }\\n    }\\n\\n    Ok(code_points)\\n}\\n```\\n\\nLet me know if you have any questions or if there\\'s anything else I can help you with!', additional_kwargs={}, example=False)]\n",
      "Human: \n",
      "Thanks. This looks like a good start.\n",
      "\n",
      "You may misunderstood some of my requirements.\n",
      "The input buffer should be the size of a standard page of memory. Typically, this would be 4 KiB for Linux on x86-64.\n",
      "And, you should not add code points to a vector, because they are also supposed to be going into an output bufffer.\n",
      "The output buffer hold a number of `u32` code points which is equal in size to the input buffer.\n",
      "I.e., for Linux on x86-64, this would be 1024 Unicode code points.\n",
      "Once 1024 Unicode code points have accumulated in the output buffer or the end of the input stream is reached,\n",
      "then it should be yielded to the caller.\n",
      "\n",
      "Please let me know if you need any additional clarifications.\n",
      "\n",
      "AI:\u001b[0m\n",
      "\n",
      "\u001b[1m> Finished chain.\u001b[0m\n"
     ]
    }
   ],
   "source": [
    "chat_response = conversation.predict( input = '''\n",
    "Thanks. This looks like a good start.\n",
    "\n",
    "You may misunderstood some of my requirements.\n",
    "The input buffer should be the size of a standard page of memory. Typically, this would be 4 KiB for Linux on x86-64.\n",
    "And, you should not add code points to a vector, because they are also supposed to be going into an output bufffer.\n",
    "The output buffer hold a number of `u32` code points which is equal in size to the input buffer.\n",
    "I.e., for Linux on x86-64, this would be 1024 Unicode code points.\n",
    "Once 1024 Unicode code points have accumulated in the output buffer or the end of the input stream is reached,\n",
    "then it should be yielded to the caller.\n",
    "\n",
    "Please let me know if you need any additional clarifications.\n",
    "'''\n",
    ")"
   ]
  },
  {
   "cell_type": "code",
   "execution_count": 76,
   "id": "7b57a42e",
   "metadata": {},
   "outputs": [
    {
     "data": {
      "text/markdown": [
       "Thank you for the clarification. I apologize for misunderstanding your requirements earlier. \n",
       "\n",
       "Based on your updated specifications, I have modified the code accordingly. Here is the updated code:\n",
       "\n",
       "```rust\n",
       "use std::io::{self, Read};\n",
       "\n",
       "const PAGE_SIZE: usize = 4096;\n",
       "const CODE_POINTS_PER_PAGE: usize = PAGE_SIZE / std::mem::size_of::<u32>();\n",
       "\n",
       "async fn read_utf8_stream<R: Read + Unpin>(mut stream: R) -> io::Result<Vec<u32>> {\n",
       "    let mut input_buffer = [0u8; PAGE_SIZE];\n",
       "    let mut output_buffer = [0u32; CODE_POINTS_PER_PAGE];\n",
       "    let mut output_buffer_index = 0;\n",
       "\n",
       "    loop {\n",
       "        let bytes_read = stream.read(&mut input_buffer).await?;\n",
       "\n",
       "        if bytes_read == 0 {\n",
       "            break;\n",
       "        }\n",
       "\n",
       "        let mut i = 0;\n",
       "        while i < bytes_read {\n",
       "            let (code_point, bytes_consumed) = match std::str::from_utf8(&input_buffer[i..]) {\n",
       "                Ok(s) => (s.chars().next().unwrap() as u32, s.len()),\n",
       "                Err(e) => {\n",
       "                    if let Some(valid_prefix) = e.valid_up_to() {\n",
       "                        let valid_bytes = &input_buffer[i..valid_prefix];\n",
       "                        let code_point = std::str::from_utf8(valid_bytes)\n",
       "                            .unwrap()\n",
       "                            .chars()\n",
       "                            .next()\n",
       "                            .unwrap() as u32;\n",
       "                        (code_point, valid_bytes.len())\n",
       "                    } else {\n",
       "                        return Err(io::Error::new(\n",
       "                            io::ErrorKind::InvalidData,\n",
       "                            \"Invalid UTF-8 sequence\",\n",
       "                        ));\n",
       "                    }\n",
       "                }\n",
       "            };\n",
       "\n",
       "            output_buffer[output_buffer_index] = code_point;\n",
       "            output_buffer_index += 1;\n",
       "\n",
       "            if output_buffer_index == CODE_POINTS_PER_PAGE {\n",
       "                output_buffer_index = 0;\n",
       "                yield output_buffer.to_vec();\n",
       "            }\n",
       "\n",
       "            i += bytes_consumed;\n",
       "        }\n",
       "    }\n",
       "\n",
       "    if output_buffer_index > 0 {\n",
       "        yield output_buffer[..output_buffer_index].to_vec();\n",
       "    }\n",
       "\n",
       "    Ok(())\n",
       "}\n",
       "```\n",
       "\n",
       "Please let me know if you have any further questions or if there's anything else I can help you with."
      ],
      "text/plain": [
       "<IPython.core.display.Markdown object>"
      ]
     },
     "metadata": {},
     "output_type": "display_data"
    }
   ],
   "source": [
    "display( Markdown( chat_response ) )"
   ]
  },
  {
   "cell_type": "code",
   "execution_count": 8,
   "id": "1e8bbcaf",
   "metadata": {},
   "outputs": [],
   "source": [
    "completion = openai.ChatCompletion.create(\n",
    "  model=\"gpt-3.5-turbo\",\n",
    "  messages=[\n",
    "    {'role': 'system', 'content': 'You are a task planner. For each goal that you are given, you will list the steps to achieve that goal, each as a separate paragraph. You will label each step as a \"Information Retrieval Task\", \"Mathematical Computation Task\", or \"Inference Task\", as you deem appropriate.'},\n",
    "    {\"role\": \"user\", \"content\": \"Goal: Create a Python program that uses the Langchain SDK, which is published on the web, to talk with Wolfram Alpha and the OpenAI API, to produce a table of known symmetric groups.\"}\n",
    "  ],\n",
    "  temperature = 0\n",
    ")"
   ]
  },
  {
   "cell_type": "code",
   "execution_count": 9,
   "id": "ff8c6df1",
   "metadata": {},
   "outputs": [
    {
     "data": {
      "text/plain": [
       "<OpenAIObject chat.completion id=chatcmpl-7BEEMVmz6xluFmuhFNSAZpb2mBm3M at 0x7fb9201cbb50> JSON: {\n",
       "  \"choices\": [\n",
       "    {\n",
       "      \"finish_reason\": \"stop\",\n",
       "      \"index\": 0,\n",
       "      \"message\": {\n",
       "        \"content\": \"Information Retrieval Task:\\n1. Research the Langchain SDK and its documentation to understand its capabilities and how to use it to communicate with other APIs.\\n2. Research the Wolfram Alpha and OpenAI APIs to understand their capabilities and how to use them to retrieve information about symmetric groups.\\n3. Identify the specific information needed to produce a table of known symmetric groups.\\n\\nMathematical Computation Task:\\n1. Develop a mathematical algorithm to generate a list of symmetric groups.\\n2. Determine the appropriate data structures to store the generated list of symmetric groups.\\n3. Develop a mathematical algorithm to sort the list of symmetric groups in a table format.\\n\\nInference Task:\\n1. Determine the appropriate parameters to pass to the Langchain SDK to communicate with the Wolfram Alpha and OpenAI APIs.\\n2. Analyze the retrieved information from the APIs to identify the symmetric groups.\\n3. Use the mathematical algorithms to generate and sort the table of symmetric groups.\",\n",
       "        \"role\": \"assistant\"\n",
       "      }\n",
       "    }\n",
       "  ],\n",
       "  \"created\": 1682910666,\n",
       "  \"id\": \"chatcmpl-7BEEMVmz6xluFmuhFNSAZpb2mBm3M\",\n",
       "  \"model\": \"gpt-3.5-turbo-0301\",\n",
       "  \"object\": \"chat.completion\",\n",
       "  \"usage\": {\n",
       "    \"completion_tokens\": 189,\n",
       "    \"prompt_tokens\": 116,\n",
       "    \"total_tokens\": 305\n",
       "  }\n",
       "}"
      ]
     },
     "execution_count": 9,
     "metadata": {},
     "output_type": "execute_result"
    }
   ],
   "source": [
    "completion"
   ]
  },
  {
   "cell_type": "code",
   "execution_count": 5,
   "id": "04b7b1bf",
   "metadata": {},
   "outputs": [],
   "source": [
    "messages = [\n",
    "    SystemMessage( content = (\n",
    "        'Hi ChatGPT, I want you to be a programmer who cares about efficiency and security. '\n",
    "        'You and I are going to develop code together. I will ask you to write code and also outline the choices '\n",
    "        'that you made when you thought about the code.' ) ),\n",
    "    HumanMessage( content = (\n",
    "        'Let us write a Rust program which will read a stream of bytes, attempt to interpret them '\n",
    "        'as UTF-8, and convert them to an array of Unicode code points. We should provide an appropriate '\n",
    "        'diagnostic message if an illegal UTF-8 sequence is encountered.' ) )\n",
    "]"
   ]
  },
  {
   "cell_type": "code",
   "execution_count": null,
   "id": "a2c0fc0b",
   "metadata": {},
   "outputs": [],
   "source": []
  }
 ],
 "metadata": {
  "kernelspec": {
   "display_name": "Python 3 (ipykernel)",
   "language": "python",
   "name": "python3"
  },
  "language_info": {
   "codemirror_mode": {
    "name": "ipython",
    "version": 3
   },
   "file_extension": ".py",
   "mimetype": "text/x-python",
   "name": "python",
   "nbconvert_exporter": "python",
   "pygments_lexer": "ipython3",
   "version": "3.10.11"
  }
 },
 "nbformat": 4,
 "nbformat_minor": 5
}
