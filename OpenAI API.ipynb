{
 "cells": [
  {
   "cell_type": "code",
   "execution_count": 1,
   "id": "1dd46da7",
   "metadata": {},
   "outputs": [
    {
     "name": "stdout",
     "output_type": "stream",
     "text": [
      "Collecting tomli\n",
      "  Downloading tomli-2.0.1-py3-none-any.whl (12 kB)\n",
      "Installing collected packages: tomli\n",
      "Successfully installed tomli-2.0.1\n",
      "Note: you may need to restart the kernel to use updated packages.\n"
     ]
    }
   ],
   "source": [
    "%pip install tomli"
   ]
  },
  {
   "cell_type": "code",
   "execution_count": 2,
   "id": "d5a8375e",
   "metadata": {},
   "outputs": [],
   "source": [
    "import tomli as tomllib"
   ]
  },
  {
   "cell_type": "code",
   "execution_count": 6,
   "id": "35b2f730",
   "metadata": {},
   "outputs": [],
   "source": [
    "with open('credentials.toml', 'rb') as credentials_file:\n",
    "    credentials = tomllib.load(credentials_file)\n",
    "    openai_api_organization = credentials['openai']['organization']\n",
    "    openai_api_token = credentials['openai']['token']"
   ]
  },
  {
   "cell_type": "code",
   "execution_count": 4,
   "id": "4de8f96b",
   "metadata": {},
   "outputs": [],
   "source": [
    "import openai"
   ]
  },
  {
   "cell_type": "code",
   "execution_count": 5,
   "id": "651ce408",
   "metadata": {},
   "outputs": [],
   "source": [
    "openai.api_key = openai_api_token"
   ]
  },
  {
   "cell_type": "code",
   "execution_count": 7,
   "id": "4e78f6c4",
   "metadata": {},
   "outputs": [],
   "source": [
    "openai.organization = openai_api_organization"
   ]
  },
  {
   "cell_type": "code",
   "execution_count": 8,
   "id": "1e8bbcaf",
   "metadata": {},
   "outputs": [],
   "source": [
    "completion = openai.ChatCompletion.create(\n",
    "  model=\"gpt-3.5-turbo\",\n",
    "  messages=[\n",
    "    {'role': 'system', 'content': 'You are a task planner. For each goal that you are given, you will list the steps to achieve that goal, each as a separate paragraph. You will label each step as a \"Information Retrieval Task\", \"Mathematical Computation Task\", or \"Inference Task\", as you deem appropriate.'},\n",
    "    {\"role\": \"user\", \"content\": \"Goal: Create a Python program that uses the Langchain SDK, which is published on the web, to talk with Wolfram Alpha and the OpenAI API, to produce a table of known symmetric groups.\"}\n",
    "  ],\n",
    "  temperature = 0\n",
    ")"
   ]
  },
  {
   "cell_type": "code",
   "execution_count": 9,
   "id": "ff8c6df1",
   "metadata": {},
   "outputs": [
    {
     "data": {
      "text/plain": [
       "<OpenAIObject chat.completion id=chatcmpl-7BEEMVmz6xluFmuhFNSAZpb2mBm3M at 0x7fb9201cbb50> JSON: {\n",
       "  \"choices\": [\n",
       "    {\n",
       "      \"finish_reason\": \"stop\",\n",
       "      \"index\": 0,\n",
       "      \"message\": {\n",
       "        \"content\": \"Information Retrieval Task:\\n1. Research the Langchain SDK and its documentation to understand its capabilities and how to use it to communicate with other APIs.\\n2. Research the Wolfram Alpha and OpenAI APIs to understand their capabilities and how to use them to retrieve information about symmetric groups.\\n3. Identify the specific information needed to produce a table of known symmetric groups.\\n\\nMathematical Computation Task:\\n1. Develop a mathematical algorithm to generate a list of symmetric groups.\\n2. Determine the appropriate data structures to store the generated list of symmetric groups.\\n3. Develop a mathematical algorithm to sort the list of symmetric groups in a table format.\\n\\nInference Task:\\n1. Determine the appropriate parameters to pass to the Langchain SDK to communicate with the Wolfram Alpha and OpenAI APIs.\\n2. Analyze the retrieved information from the APIs to identify the symmetric groups.\\n3. Use the mathematical algorithms to generate and sort the table of symmetric groups.\",\n",
       "        \"role\": \"assistant\"\n",
       "      }\n",
       "    }\n",
       "  ],\n",
       "  \"created\": 1682910666,\n",
       "  \"id\": \"chatcmpl-7BEEMVmz6xluFmuhFNSAZpb2mBm3M\",\n",
       "  \"model\": \"gpt-3.5-turbo-0301\",\n",
       "  \"object\": \"chat.completion\",\n",
       "  \"usage\": {\n",
       "    \"completion_tokens\": 189,\n",
       "    \"prompt_tokens\": 116,\n",
       "    \"total_tokens\": 305\n",
       "  }\n",
       "}"
      ]
     },
     "execution_count": 9,
     "metadata": {},
     "output_type": "execute_result"
    }
   ],
   "source": [
    "completion"
   ]
  },
  {
   "cell_type": "code",
   "execution_count": null,
   "id": "81c5aece",
   "metadata": {},
   "outputs": [],
   "source": []
  }
 ],
 "metadata": {
  "kernelspec": {
   "display_name": "Python 3 (ipykernel)",
   "language": "python",
   "name": "python3"
  },
  "language_info": {
   "codemirror_mode": {
    "name": "ipython",
    "version": 3
   },
   "file_extension": ".py",
   "mimetype": "text/x-python",
   "name": "python",
   "nbconvert_exporter": "python",
   "pygments_lexer": "ipython3",
   "version": "3.10.6"
  }
 },
 "nbformat": 4,
 "nbformat_minor": 5
}
